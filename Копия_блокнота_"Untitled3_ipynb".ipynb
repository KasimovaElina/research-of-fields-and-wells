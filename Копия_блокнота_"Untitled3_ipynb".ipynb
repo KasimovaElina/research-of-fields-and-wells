{
  "nbformat": 4,
  "nbformat_minor": 0,
  "metadata": {
    "colab": {
      "name": "Копия блокнота \"Untitled3.ipynb\"",
      "provenance": [],
      "collapsed_sections": [],
      "authorship_tag": "ABX9TyOKoypTBEHk9LJtuX/4lQeh",
      "include_colab_link": true
    },
    "kernelspec": {
      "name": "python3",
      "display_name": "Python 3"
    },
    "language_info": {
      "name": "python"
    }
  },
  "cells": [
    {
      "cell_type": "markdown",
      "metadata": {
        "id": "view-in-github",
        "colab_type": "text"
      },
      "source": [
        "<a href=\"https://colab.research.google.com/github/KasimovaElina/research-of-fields-and-wells/blob/main/%D0%9A%D0%BE%D0%BF%D0%B8%D1%8F_%D0%B1%D0%BB%D0%BE%D0%BA%D0%BD%D0%BE%D1%82%D0%B0_%22Untitled3_ipynb%22.ipynb\" target=\"_parent\"><img src=\"https://colab.research.google.com/assets/colab-badge.svg\" alt=\"Open In Colab\"/></a>"
      ]
    },
    {
      "cell_type": "code",
      "metadata": {
        "id": "xEGW5I3-_50P"
      },
      "source": [
        "import numpy as np\n",
        "import matplotlib.pyplot as plt\n",
        "#from mpmath import *\n",
        "import scipy.special as sc\n",
        "#mp.dps = 5;          # здесь задаем желаемую точность расчетов mpmath (количество знаков после запятой)\n",
        "#mp.pretty = True"
      ],
      "execution_count": null,
      "outputs": []
    },
    {
      "cell_type": "code",
      "metadata": {
        "id": "9klGSmFXDNYJ",
        "colab": {
          "base_uri": "https://localhost:8080/"
        },
        "outputId": "69a313b9-e869-4f47-b7f5-bd8c1993dc7a"
      },
      "source": [
        "def pd_ei (r_d,t_d=100):\n",
        "  return -1/2*sc.expi(-r_d**2/(4*t_d)) #считаем функцию безразмерного давления от безразмерных координат и времени\n",
        "t_d = 1000\n",
        "#r_d = 1\n",
        "# задаем массивы для отрисовки графиков - количество точек на графике\n",
        "rr = np.arange(1, 7000, 100)\n",
        "tt = np.arange(1, 1e6, 1e4)\n",
        "print (pd_ei(r_d=rr, t_d=10000))"
      ],
      "execution_count": null,
      "outputs": [
        {
          "output_type": "stream",
          "name": "stdout",
          "text": [
            "[5.00972203e+000 5.14411365e-001 1.07866304e-001 1.70329090e-002\n",
            " 1.84439872e-003 1.31428721e-004 6.02121821e-006 1.74770081e-007\n",
            " 3.18243757e-009 3.61041327e-011 2.53905351e-013 1.10272950e-015\n",
            " 2.94913937e-018 4.84586497e-021 4.88335121e-024 3.01374195e-027\n",
            " 1.13768129e-030 2.62443019e-034 3.69651247e-038 3.17680268e-042\n",
            " 1.66483780e-046 5.31760648e-051 1.03474131e-055 1.22617417e-060\n",
            " 8.84568391e-066 3.88365860e-071 1.03745027e-076 1.68581135e-082\n",
            " 1.66600278e-088 1.00112082e-094 3.65736517e-101 8.12185648e-108\n",
            " 1.09619476e-114 8.99106734e-122 4.48101493e-129 1.35686887e-136\n",
            " 2.49605543e-144 2.78924917e-152 1.89322415e-160 7.80487575e-169\n",
            " 1.95411097e-177 2.97114574e-186 2.74324385e-195 1.53796560e-204\n",
            " 5.23538038e-214 1.08205275e-223 1.35777470e-233 1.03435079e-243\n",
            " 4.78356585e-254 1.34296098e-264 2.28869376e-275 2.36761153e-286\n",
            " 1.48668280e-297 5.66628860e-309 1.31075616e-320 0.00000000e+000\n",
            " 0.00000000e+000 0.00000000e+000 0.00000000e+000 0.00000000e+000\n",
            " 0.00000000e+000 0.00000000e+000 0.00000000e+000 0.00000000e+000\n",
            " 0.00000000e+000 0.00000000e+000 0.00000000e+000 0.00000000e+000\n",
            " 0.00000000e+000 0.00000000e+000]\n"
          ]
        }
      ]
    },
    {
      "cell_type": "code",
      "metadata": {
        "colab": {
          "base_uri": "https://localhost:8080/"
        },
        "id": "N12xDkxfg4Px",
        "outputId": "bc294ba4-be5e-4fa9-a124-56a5ea7d16a4"
      },
      "source": [
        "p_d=pd_ei(r_d=rr,t_d=10000)\n",
        "print (p_d)"
      ],
      "execution_count": null,
      "outputs": [
        {
          "output_type": "stream",
          "name": "stdout",
          "text": [
            "[5.00972203e+00 2.61332562e+00 1.97068444e+00 1.58766306e+00\n",
            " 1.31693125e+00 1.10987542e+00 9.44288441e-01 8.08111181e-01\n",
            " 6.94028763e-01 5.97242320e-01 5.14411365e-01 4.43099049e-01\n",
            " 3.81458590e-01 3.28045417e-01 2.81699313e-01 2.41467616e-01\n",
            " 2.06553589e-01 1.76280766e-01 1.50067743e-01 1.27409966e-01\n",
            " 1.07866304e-01 9.10489596e-02 7.66157077e-02 6.42638230e-02\n",
            " 5.37252050e-02 4.47623848e-02 3.71651773e-02 3.07478173e-02\n",
            " 2.53464598e-02 2.08169653e-02 1.70329090e-02 1.38837752e-02\n",
            " 1.12733073e-02 9.11799394e-03 7.34567887e-03 5.89428294e-03\n",
            " 4.71063274e-03 3.74938965e-03 2.97207481e-03 2.34618550e-03\n",
            " 1.84439872e-03 1.44385729e-03 1.12553377e-03 8.73667182e-04\n",
            " 6.75267371e-04 5.19681569e-04 3.98217860e-04 3.03820139e-04\n",
            " 2.30789350e-04 1.74545937e-04 1.31428721e-04 9.85256978e-05\n",
            " 7.35326051e-05 5.46354337e-05 4.04134538e-05 2.97596679e-05\n",
            " 2.18159644e-05 1.59205810e-05 1.15658021e-05 8.36410283e-06\n",
            " 6.02121821e-06 4.31484906e-06 3.07792568e-06 2.18553194e-06\n",
            " 1.54474963e-06 1.08681727e-06 7.61111335e-07 5.30553235e-07\n",
            " 3.68124652e-07 2.54238999e-07 1.74770081e-07 1.19582077e-07\n",
            " 8.14396212e-08 5.52042768e-08 3.72455009e-08 2.50112805e-08\n",
            " 1.67169115e-08 1.11206779e-08 7.36306745e-09 4.85216842e-09\n",
            " 3.18243757e-09 2.07743911e-09 1.34970428e-09 8.72747192e-10\n",
            " 5.61662572e-10 3.59747217e-10 2.29325394e-10 1.45491452e-10\n",
            " 9.18652740e-11 5.77287076e-11 3.61041327e-11 2.24721556e-11\n",
            " 1.39204557e-11 8.58185739e-12 5.26534122e-12 3.21504793e-12\n",
            " 1.95372057e-12 1.18154405e-12 7.11128865e-13 4.25947535e-13]\n"
          ]
        }
      ]
    },
    {
      "cell_type": "code",
      "metadata": {
        "id": "Nn4SLPspE8J_",
        "colab": {
          "base_uri": "https://localhost:8080/"
        },
        "outputId": "8e527bd1-e46d-443f-b64c-568857ae390b"
      },
      "source": [
        "def r (r_d,r_w=0.1):\n",
        "  return r_d*r_w\n",
        "print (r(r_d=rr))"
      ],
      "execution_count": null,
      "outputs": [
        {
          "output_type": "stream",
          "name": "stdout",
          "text": [
            "[1.000e-01 1.010e+01 2.010e+01 3.010e+01 4.010e+01 5.010e+01 6.010e+01\n",
            " 7.010e+01 8.010e+01 9.010e+01 1.001e+02 1.101e+02 1.201e+02 1.301e+02\n",
            " 1.401e+02 1.501e+02 1.601e+02 1.701e+02 1.801e+02 1.901e+02 2.001e+02\n",
            " 2.101e+02 2.201e+02 2.301e+02 2.401e+02 2.501e+02 2.601e+02 2.701e+02\n",
            " 2.801e+02 2.901e+02 3.001e+02 3.101e+02 3.201e+02 3.301e+02 3.401e+02\n",
            " 3.501e+02 3.601e+02 3.701e+02 3.801e+02 3.901e+02 4.001e+02 4.101e+02\n",
            " 4.201e+02 4.301e+02 4.401e+02 4.501e+02 4.601e+02 4.701e+02 4.801e+02\n",
            " 4.901e+02 5.001e+02 5.101e+02 5.201e+02 5.301e+02 5.401e+02 5.501e+02\n",
            " 5.601e+02 5.701e+02 5.801e+02 5.901e+02 6.001e+02 6.101e+02 6.201e+02\n",
            " 6.301e+02 6.401e+02 6.501e+02 6.601e+02 6.701e+02 6.801e+02 6.901e+02]\n"
          ]
        }
      ]
    },
    {
      "cell_type": "code",
      "metadata": {
        "id": "XQec0MsfFUA1"
      },
      "source": [
        "def t (t_d,m=0.3, mu=3.2, c_t=10**(-5), r_w=0.1, k=200):\n",
        "  return t_d*m*mu*c_t*r_w**2/(0.00036*k)"
      ],
      "execution_count": null,
      "outputs": []
    },
    {
      "cell_type": "code",
      "metadata": {
        "id": "YaybsPCdGkX8",
        "colab": {
          "base_uri": "https://localhost:8080/"
        },
        "outputId": "3f0b9ada-9ad2-4373-8884-b3614cbd416c"
      },
      "source": [
        "def p_wf_atm (p_d, k=200, h=8, q_s=200, B=1.2, mu=3.2,p_i=200):\n",
        "  return p_i - 18.41*q_s*B*mu*p_d/k/h\n",
        "print(p_wf_atm(p_d))"
      ],
      "execution_count": null,
      "outputs": [
        {
          "output_type": "stream",
          "name": "stdout",
          "text": [
            "[155.73008833 176.90656418 182.58545574 185.97013904 188.36254193\n",
            " 190.19225293 191.65551191 192.85888312 193.86700662 194.72228906\n",
            " 195.45424965 196.08442232 196.62912674 197.10112826 197.51067951\n",
            " 197.86619897 198.17472725 198.44224213 198.67388137 198.87410362\n",
            " 199.04680704 199.19541855 199.32296231 199.43211345 199.52524111\n",
            " 199.60444376 199.67157876 199.72828769 199.7760184  199.81604464\n",
            " 199.84948359 199.87731185 199.90038004 199.91942611 199.93508771\n",
            " 199.9479134  199.95837308 199.96686739 199.97373637 199.97926723\n",
            " 199.98370142 199.98724092 199.99005388 199.99227958 199.9940328\n",
            " 199.99540768 199.99648103 199.9973152  199.99796056 199.99845757\n",
            " 199.99883859 199.99912935 199.99935021 199.9995172  199.99964287\n",
            " 199.99973702 199.99980722 199.99985931 199.9998978  199.99992609\n",
            " 199.99994679 199.99996187 199.9999728  199.99998069 199.99998635\n",
            " 199.9999904  199.99999327 199.99999531 199.99999675 199.99999775\n",
            " 199.99999846 199.99999894 199.99999928 199.99999951 199.99999967\n",
            " 199.99999978 199.99999985 199.9999999  199.99999993 199.99999996\n",
            " 199.99999997 199.99999998 199.99999999 199.99999999 200.\n",
            " 200.         200.         200.         200.         200.\n",
            " 200.         200.         200.         200.         200.\n",
            " 200.         200.         200.         200.         200.        ]\n"
          ]
        }
      ]
    },
    {
      "cell_type": "code",
      "metadata": {
        "colab": {
          "base_uri": "https://localhost:8080/",
          "height": 514
        },
        "id": "iQ_iNijr3h6K",
        "outputId": "b740ffde-c378-437e-85d8-68681bf54a3d"
      },
      "source": [
        "fig, (ax1, ax2) = plt.subplots(1,2)\n",
        "ax1.plot(r, p_wf_atm(r,p_d) )"
      ],
      "execution_count": null,
      "outputs": [
        {
          "output_type": "error",
          "ename": "TypeError",
          "evalue": "ignored",
          "traceback": [
            "\u001b[0;31m---------------------------------------------------------------------------\u001b[0m",
            "\u001b[0;31mTypeError\u001b[0m                                 Traceback (most recent call last)",
            "\u001b[0;32m<ipython-input-29-48e1f035052a>\u001b[0m in \u001b[0;36m<module>\u001b[0;34m()\u001b[0m\n\u001b[1;32m      1\u001b[0m \u001b[0mfig\u001b[0m\u001b[0;34m,\u001b[0m \u001b[0;34m(\u001b[0m\u001b[0max1\u001b[0m\u001b[0;34m,\u001b[0m \u001b[0max2\u001b[0m\u001b[0;34m)\u001b[0m \u001b[0;34m=\u001b[0m \u001b[0mplt\u001b[0m\u001b[0;34m.\u001b[0m\u001b[0msubplots\u001b[0m\u001b[0;34m(\u001b[0m\u001b[0;36m1\u001b[0m\u001b[0;34m,\u001b[0m\u001b[0;36m2\u001b[0m\u001b[0;34m)\u001b[0m\u001b[0;34m\u001b[0m\u001b[0;34m\u001b[0m\u001b[0m\n\u001b[0;32m----> 2\u001b[0;31m \u001b[0max1\u001b[0m\u001b[0;34m.\u001b[0m\u001b[0mplot\u001b[0m\u001b[0;34m(\u001b[0m\u001b[0mr\u001b[0m\u001b[0;34m,\u001b[0m \u001b[0mp_wf_atm\u001b[0m\u001b[0;34m(\u001b[0m\u001b[0mr\u001b[0m\u001b[0;34m,\u001b[0m\u001b[0mp_d\u001b[0m\u001b[0;34m)\u001b[0m \u001b[0;34m)\u001b[0m\u001b[0;34m\u001b[0m\u001b[0;34m\u001b[0m\u001b[0m\n\u001b[0m",
            "\u001b[0;32m<ipython-input-27-51696e95bc84>\u001b[0m in \u001b[0;36mp_wf_atm\u001b[0;34m(p_d, k, h, q_s, B, mu, p_i)\u001b[0m\n\u001b[1;32m      1\u001b[0m \u001b[0;32mdef\u001b[0m \u001b[0mp_wf_atm\u001b[0m \u001b[0;34m(\u001b[0m\u001b[0mp_d\u001b[0m\u001b[0;34m,\u001b[0m \u001b[0mk\u001b[0m\u001b[0;34m=\u001b[0m\u001b[0;36m200\u001b[0m\u001b[0;34m,\u001b[0m \u001b[0mh\u001b[0m\u001b[0;34m=\u001b[0m\u001b[0;36m8\u001b[0m\u001b[0;34m,\u001b[0m \u001b[0mq_s\u001b[0m\u001b[0;34m=\u001b[0m\u001b[0;36m200\u001b[0m\u001b[0;34m,\u001b[0m \u001b[0mB\u001b[0m\u001b[0;34m=\u001b[0m\u001b[0;36m1.2\u001b[0m\u001b[0;34m,\u001b[0m \u001b[0mmu\u001b[0m\u001b[0;34m=\u001b[0m\u001b[0;36m3.2\u001b[0m\u001b[0;34m,\u001b[0m\u001b[0mp_i\u001b[0m\u001b[0;34m=\u001b[0m\u001b[0;36m200\u001b[0m\u001b[0;34m)\u001b[0m\u001b[0;34m:\u001b[0m\u001b[0;34m\u001b[0m\u001b[0;34m\u001b[0m\u001b[0m\n\u001b[0;32m----> 2\u001b[0;31m   \u001b[0;32mreturn\u001b[0m \u001b[0mp_i\u001b[0m \u001b[0;34m-\u001b[0m \u001b[0;36m18.41\u001b[0m\u001b[0;34m*\u001b[0m\u001b[0mq_s\u001b[0m\u001b[0;34m*\u001b[0m\u001b[0mB\u001b[0m\u001b[0;34m*\u001b[0m\u001b[0mmu\u001b[0m\u001b[0;34m*\u001b[0m\u001b[0mp_d\u001b[0m\u001b[0;34m/\u001b[0m\u001b[0mk\u001b[0m\u001b[0;34m/\u001b[0m\u001b[0mh\u001b[0m\u001b[0;34m\u001b[0m\u001b[0;34m\u001b[0m\u001b[0m\n\u001b[0m\u001b[1;32m      3\u001b[0m \u001b[0mprint\u001b[0m\u001b[0;34m(\u001b[0m\u001b[0mp_wf_atm\u001b[0m\u001b[0;34m(\u001b[0m\u001b[0mp_d\u001b[0m\u001b[0;34m)\u001b[0m\u001b[0;34m)\u001b[0m\u001b[0;34m\u001b[0m\u001b[0;34m\u001b[0m\u001b[0m\n",
            "\u001b[0;31mTypeError\u001b[0m: unsupported operand type(s) for *: 'float' and 'function'"
          ]
        },
        {
          "output_type": "display_data",
          "data": {
            "image/png": "[encoded data removed]",
            "text/plain": [
              "<Figure size 432x288 with 2 Axes>"
            ]
          },
          "metadata": {
            "needs_background": "light"
          }
        }
      ]
    },
    {
      "cell_type": "code",
      "metadata": {
        "colab": {
          "base_uri": "https://localhost:8080/",
          "height": 162
        },
        "id": "8ThH1RxS6i_m",
        "outputId": "6051f42d-db60-491a-c5de-2c56cdec3c79"
      },
      "source": [
        "p_wf_atm(p_d(rr, t_d))\n"
      ],
      "execution_count": null,
      "outputs": [
        {
          "output_type": "error",
          "ename": "TypeError",
          "evalue": "ignored",
          "traceback": [
            "\u001b[0;31m---------------------------------------------------------------------------\u001b[0m",
            "\u001b[0;31mTypeError\u001b[0m                                 Traceback (most recent call last)",
            "\u001b[0;32m<ipython-input-11-2079f5b3b5c6>\u001b[0m in \u001b[0;36m<module>\u001b[0;34m()\u001b[0m\n\u001b[0;32m----> 1\u001b[0;31m \u001b[0mp_wf_atm\u001b[0m\u001b[0;34m(\u001b[0m\u001b[0mp_d\u001b[0m\u001b[0;34m(\u001b[0m\u001b[0mrr\u001b[0m\u001b[0;34m,\u001b[0m \u001b[0mt_d\u001b[0m\u001b[0;34m)\u001b[0m\u001b[0;34m)\u001b[0m\u001b[0;34m\u001b[0m\u001b[0;34m\u001b[0m\u001b[0m\n\u001b[0m",
            "\u001b[0;31mTypeError\u001b[0m: 'numpy.ndarray' object is not callable"
          ]
        }
      ]
    },
    {
      "cell_type": "code",
      "metadata": {
        "colab": {
          "base_uri": "https://localhost:8080/",
          "height": 297
        },
        "id": "s_hyMUCbJXQX",
        "outputId": "1317b4dd-a021-4aab-f6bf-779b48aa8ac6"
      },
      "source": [
        "r_r=np.arange(1,200,0.1)\n",
        "t_t=np.arange (0, 10000, 10)\n",
        "\n",
        "p_wf_atm(pd_ei(r_r, t_d))\n",
        "\n",
        "\n",
        "\n"
      ],
      "execution_count": null,
      "outputs": [
        {
          "output_type": "error",
          "ename": "NameError",
          "evalue": "ignored",
          "traceback": [
            "\u001b[0;31m---------------------------------------------------------------------------\u001b[0m",
            "\u001b[0;31mNameError\u001b[0m                                 Traceback (most recent call last)",
            "\u001b[0;32m<ipython-input-4-44f223376c5f>\u001b[0m in \u001b[0;36m<module>\u001b[0;34m()\u001b[0m\n\u001b[0;32m----> 1\u001b[0;31m \u001b[0mr_r\u001b[0m\u001b[0;34m=\u001b[0m\u001b[0mnp\u001b[0m\u001b[0;34m.\u001b[0m\u001b[0marange\u001b[0m\u001b[0;34m(\u001b[0m\u001b[0;36m1\u001b[0m\u001b[0;34m,\u001b[0m\u001b[0;36m200\u001b[0m\u001b[0;34m,\u001b[0m\u001b[0;36m0.1\u001b[0m\u001b[0;34m)\u001b[0m\u001b[0;34m\u001b[0m\u001b[0;34m\u001b[0m\u001b[0m\n\u001b[0m\u001b[1;32m      2\u001b[0m \u001b[0mt_t\u001b[0m\u001b[0;34m=\u001b[0m\u001b[0mnp\u001b[0m\u001b[0;34m.\u001b[0m\u001b[0marange\u001b[0m \u001b[0;34m(\u001b[0m\u001b[0;36m0\u001b[0m\u001b[0;34m,\u001b[0m \u001b[0;36m10000\u001b[0m\u001b[0;34m,\u001b[0m \u001b[0;36m10\u001b[0m\u001b[0;34m)\u001b[0m\u001b[0;34m\u001b[0m\u001b[0;34m\u001b[0m\u001b[0m\n\u001b[1;32m      3\u001b[0m \u001b[0;34m\u001b[0m\u001b[0m\n\u001b[1;32m      4\u001b[0m \u001b[0mp_wf_atm\u001b[0m\u001b[0;34m(\u001b[0m\u001b[0mpd_ei\u001b[0m\u001b[0;34m(\u001b[0m\u001b[0mr_r\u001b[0m\u001b[0;34m,\u001b[0m \u001b[0mt_d\u001b[0m\u001b[0;34m)\u001b[0m\u001b[0;34m)\u001b[0m\u001b[0;34m\u001b[0m\u001b[0;34m\u001b[0m\u001b[0m\n\u001b[1;32m      5\u001b[0m \u001b[0;34m\u001b[0m\u001b[0m\n",
            "\u001b[0;31mNameError\u001b[0m: name 'np' is not defined"
          ]
        }
      ]
    }
  ]
}